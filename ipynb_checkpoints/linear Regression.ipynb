{
 "cells": [
  {
   "cell_type": "code",
   "execution_count": 1,
   "metadata": {
    "colab": {},
    "colab_type": "code",
    "id": "Fe9GoTpsRjqH"
   },
   "outputs": [],
   "source": [
    "import pandas as pd \n",
    "import numpy as np\n",
    "import matplotlib.pyplot as plt\n",
    "import math\n",
    "import operator\n",
    "from itertools import combinations_with_replacement\n",
    "from scipy.special import comb\n",
    "from random import randrange\n",
    "import random\n",
    "from numpy import nan\n",
    "\n",
    "import warnings\n",
    "warnings.filterwarnings('ignore')"
   ]
  },
  {
   "cell_type": "code",
   "execution_count": 2,
   "metadata": {
    "colab": {},
    "colab_type": "code",
    "id": "bG-7n8kVRjqM"
   },
   "outputs": [],
   "source": [
    "#1\n",
    "def polynomialFeatures(X,degree = 1):\n",
    "    poly_comb=np.zeros((X.shape[0],comb(X.shape[1]+degree,degree).astype(int)-1))\n",
    "    for i in range(X.shape[0]):\n",
    "        temp_list = []\n",
    "        for j in range(degree):\n",
    "            temp_arr = np.array(list(combinations_with_replacement(X[i],j+1)))\n",
    "            temp_list.append(poly_helper(temp_arr))\n",
    "        poly_comb[i]=np.concatenate(temp_list, axis=None)\n",
    "    return poly_comb\n",
    "\n",
    "def poly_helper(row):\n",
    "    size,ele = row.shape\n",
    "    if ele == 1:\n",
    "        return row\n",
    "    arr = np.zeros((size))\n",
    "    for i in range(size):\n",
    "        temp=1\n",
    "        for j in range(ele):\n",
    "            temp*=row[i][j]\n",
    "        arr[i]=temp\n",
    "    return arr.tolist()"
   ]
  },
  {
   "cell_type": "code",
   "execution_count": 3,
   "metadata": {
    "colab": {},
    "colab_type": "code",
    "id": "XHARYOJvRjqO"
   },
   "outputs": [],
   "source": [
    "#2\n",
    "def mse(Y_true,Y_pred):\n",
    "    return np.mean((np.square(Y_true - Y_pred)))"
   ]
  },
  {
   "cell_type": "code",
   "execution_count": 4,
   "metadata": {
    "colab": {},
    "colab_type": "code",
    "id": "6_MKWqJvRjqQ"
   },
   "outputs": [],
   "source": [
    "def standardize(X):\n",
    "    return (X-np.mean(X,axis = 0))/np.std(X,axis=0)"
   ]
  },
  {
   "cell_type": "code",
   "execution_count": 5,
   "metadata": {
    "colab": {},
    "colab_type": "code",
    "id": "PNSW-FUvRjqS"
   },
   "outputs": [],
   "source": [
    "def partition(data,target,t):\n",
    "    train_data, test_data = np.split(data, [int((1-t)*len(data))])\n",
    "    target_train,target_test = np.split(target, [int((1-t)*len(target))])\n",
    "    return train_data,test_data,target_train,target_test"
   ]
  },
  {
   "cell_type": "code",
   "execution_count": 6,
   "metadata": {
    "colab": {},
    "colab_type": "code",
    "id": "uvPX4REmRjqU"
   },
   "outputs": [],
   "source": [
    "#3\n",
    "def learning_curve(model, X, Y, cv, train_size=1, learning_rate=0.01,\n",
    "                   epochs=1000, tol=None, regularizer=None, lambd=0.0, **kwargs):\n",
    "    model_arg = {\"learning _rate\" : learning_rate,\"epochs\":epochs,\"tol\":tol,\"regularizer\":regularizer,\"lambd\":lambd}\n",
    "    if not isinstance(train_size, int):\n",
    "        train_size = int (X.shape[0]*train_size)\n",
    "        t_size = train_size\n",
    "    else:\n",
    "        tsize = train_size\n",
    "    flag = 1\n",
    "    train_scores = []\n",
    "    val_scores = []\n",
    "    while flag:\n",
    "        train,val = sfolds_cross_val(cv,X[:train_size],Y[:train_size],model,model_arg)\n",
    "        train_scores.append(np.sqrt(train))\n",
    "        val_scores.append(np.sqrt(val))\n",
    "        train_size += t_size\n",
    "        if train_size > X.shape[0]:\n",
    "            flag = 0\n",
    "            train,val = sfolds_cross_val(cv,X[:train_size],Y[:train_size],model,model_arg)\n",
    "            train_scores.append(np.sqrt((train)))\n",
    "            val_scores.append(np.sqrt(val))\n",
    "    return train_scores,val_scores"
   ]
  },
  {
   "cell_type": "code",
   "execution_count": 7,
   "metadata": {
    "colab": {},
    "colab_type": "code",
    "id": "qbut7_PkRjqX"
   },
   "outputs": [],
   "source": [
    "#4\n",
    "def plot_polynomial_model_complexity(model, X, Y, cv, maxPolynomialDegree,\n",
    "                                     learning_rate=0.01, epochs=1000, tol=None, regularizer=None, lambd=0.0,\n",
    "                                     **kwargs):\n",
    "    train_scores=[]\n",
    "    val_scores=[]\n",
    "    for i in range(maxPolynomialDegree):\n",
    "        X_aug = polynomialFeatures(X,i+1)\n",
    "        X_aug = standardize(X_aug)\n",
    "        if i < 3:\n",
    "            model_arg = {\"learning_rate\" : learning_rate,\"epochs\":epochs,\"tol\":tol,\"regularizer\":regularizer,\"lambd\":lambd}\n",
    "            train,val = sfolds_cross_val(cv,X_aug,Y,model,model_arg)\n",
    "            train_scores.append(np.sqrt(train))\n",
    "            val_scores.append(np.sqrt(val))\n",
    "        else:\n",
    "            if learning_rate > 0.001:\n",
    "                model_arg = {\"learning_rate\" : 0.001,\"epochs\":epochs,\"tol\":tol,\"regularizer\":regularizer,\"lambd\":lambd}\n",
    "            else:\n",
    "                model_arg = {\"learning_rate\" : learning_rate,\"epochs\":epochs,\"tol\":tol,\"regularizer\":regularizer,\"lambd\":lambd}\n",
    "            train,val = sfolds_cross_val(cv,X_aug,Y,model,model_arg)\n",
    "            train_scores.append(np.sqrt(train))\n",
    "            val_scores.append(np.sqrt(val))\n",
    "    plt.figure(figsize=(10, 6))\n",
    "    plt.plot([j for j in range (1,maxPolynomialDegree+1)], (train_scores), \"r-+\", linewidth=3, label=\"Training Score\")\n",
    "    plt.plot([j for j in range (1,maxPolynomialDegree+1)], (val_scores), \"b-\", linewidth=2, label=\"Cross-validation Score\")\n",
    "    plt.legend(loc=\"best\", fontsize=18)   \n",
    "    plt.xlabel(\"Training set size\", fontsize=18) \n",
    "    plt.ylabel(\"RMSE\", fontsize=14) \n",
    "    plt.title(\" (Polynomial Model)\")\n",
    "    plt.show()\n",
    "    print(\"Optimal Degree: \",np.argmin(val_scores)+1)"
   ]
  },
  {
   "cell_type": "code",
   "execution_count": 8,
   "metadata": {
    "colab": {},
    "colab_type": "code",
    "id": "MzlonOz2Rjqa"
   },
   "outputs": [],
   "source": [
    "#5\n",
    "class Linear_Regression:\n",
    "    def fit(self, X, Y, learning_rate=0.01, epochs=1000, tol=None, regularizer=None,\n",
    "             lambd=0.0, **kwargs):\n",
    "        self.learning_rate=learning_rate\n",
    "        self.epochs=epochs\n",
    "        self.tol=tol\n",
    "        self.regularizer=regularizer\n",
    "        self.lambd=lambd\n",
    "        m = X.shape[0]\n",
    "        ones = np.ones([X.shape[0],1])\n",
    "        X = np.concatenate((ones,X),axis=1)\n",
    "        theta_hat = np.zeros(X.shape[1])\n",
    "        previous_error = mse(Y,np.dot(X,theta_hat)-Y)\n",
    "        for i in range(epochs):\n",
    "            if regularizer == 'l1' :\n",
    "                theta_hat -= (learning_rate/m) * np.dot(X.T,np.dot(X,theta_hat)-Y) - (learning_rate*lambd*np.sign(theta_hat))/m\n",
    "            elif regularizer == 'l2':\n",
    "                theta_hat -= (learning_rate/m) * np.dot(X.T,np.dot(X,theta_hat)-Y) - (learning_rate*lambd*theta_hat)/m\n",
    "            else:\n",
    "                theta_hat -= (learning_rate/m) * np.dot(X.T,np.dot(X,theta_hat)-Y)\n",
    "            error = mse(Y,np.dot(X,theta_hat)-Y)\n",
    "            if (tol is not None):\n",
    "                if (error > previous_error - tol) :\n",
    "                    self.theta_hat = theta_hat\n",
    "                    break\n",
    "            else:\n",
    "                previous_error = error\n",
    "        self.theta_hat = theta_hat\n",
    "        \n",
    "    def predict(self,X):\n",
    "        ones = np.ones([X.shape[0],1])\n",
    "        X = np.concatenate((ones,X),axis=1)\n",
    "        return np.dot(X,self.theta_hat)\n",
    "    \n",
    "    def __int__(self):\n",
    "        self"
   ]
  },
  {
   "cell_type": "code",
   "execution_count": 9,
   "metadata": {
    "colab": {},
    "colab_type": "code",
    "id": "MsumE0rjRjqb"
   },
   "outputs": [],
   "source": [
    "#extra credits \n",
    "class Stochastic_Regression:\n",
    "    def fit(self, X, Y, learning_rate=0.01, epochs=100, tol=None, regularizer=None,\n",
    "             lambd=0.0, **kwargs):\n",
    "        #print(learning_rate)\n",
    "        self.learning_rate=learning_rate\n",
    "        self.epochs=epochs\n",
    "        self.tol=tol\n",
    "        self.regularizer=regularizer\n",
    "        self.lambd=lambd\n",
    "        m = X.shape[0]\n",
    "        ones = np.ones([X.shape[0],1])\n",
    "        X = np.concatenate((ones,X),axis=1)\n",
    "        theta_hat = np.zeros(X.shape[1])\n",
    "        previous_error = mse(Y,np.dot(X,theta_hat)-Y)\n",
    "        decay = learning_rate/epochs\n",
    "        learn = learning_rate\n",
    "        for i in range(epochs):\n",
    "            j = list(range(1,X.shape[0])) \n",
    "            if regularizer == None :\n",
    "                theta_hat -= (learning_rate/m) * np.dot(X[j].T,np.dot(X[j],theta_hat)-Y[j])\n",
    "            elif regularizer == 'l2':\n",
    "                theta_hat -= (learning_rate/m) * np.dot(X[j].T,np.dot(X[j],theta_hat)-Y[j]) - (learning_rate*lambd*theta_hat)/m\n",
    "            else:\n",
    "                theta_hat -= (learning_rate/m) * np.dot(X[j].T,np.dot(X[j],theta_hat)-Y[j]) - (learning_rate*lambd*np.sign(theta_hat))/m\n",
    "                \n",
    "            error = mse(Y,np.dot(X,theta_hat)-Y)\n",
    "            learning_rate =learn * 1/(1+decay*i)\n",
    "            if (tol is not None):\n",
    "                if (error > previous_error - tol) :\n",
    "                    self.theta_hat = theta_hat\n",
    "                    break\n",
    "            else:\n",
    "                previous_error = error\n",
    "        #print(learning_rate)\n",
    "        self.theta_hat = theta_hat\n",
    "    \n",
    "    def predict(self,X):\n",
    "        ones = np.ones([X.shape[0],1])\n",
    "        X = np.concatenate((ones,X),axis=1)\n",
    "        return np.dot(X,self.theta_hat)\n",
    "    \n",
    "    def __int__(self):\n",
    "        self"
   ]
  },
  {
   "cell_type": "code",
   "execution_count": 10,
   "metadata": {
    "colab": {},
    "colab_type": "code",
    "id": "4D-N9b-IRjqd"
   },
   "outputs": [],
   "source": [
    "def sfolds(folds,data,labels,model,model_args,err_func):\n",
    "    values={}\n",
    "    X_folds = np.array_split(data,folds)\n",
    "    Y_folds = np.array_split(labels,folds)\n",
    "    predicted = []\n",
    "    error=[]\n",
    "    for X,Y in zip(X_folds,Y_folds):\n",
    "        model.fit(X,np.array(Y),**model_args)\n",
    "        predicted.append(model.predict(X))\n",
    "        error.append(err_func(Y,model.predict(X)))\n",
    "    pred_values=np.concatenate(np.asarray((predicted)),axis=0)\n",
    "    return pred_values,np.array(error)"
   ]
  },
  {
   "cell_type": "code",
   "execution_count": 11,
   "metadata": {
    "colab": {},
    "colab_type": "code",
    "id": "iCmkojc-Rjqf"
   },
   "outputs": [],
   "source": [
    "def sfolds_cross_val(folds,data,labels,model,model_args):\n",
    "    train_scores =[]\n",
    "    val_scores = []\n",
    "    for i in range(folds):\n",
    "        X_folds = np.array_split(data,folds)\n",
    "        Y_folds = np.array_split(labels,folds)\n",
    "        X_test = np.array(X_folds.pop(i))\n",
    "        Y_test = np.array(Y_folds.pop(i))\n",
    "        X_train = np.vstack(X_folds)\n",
    "        Y_train = np.hstack(Y_folds)\n",
    "        model.fit(X_train,Y_train,**model_args)\n",
    "        train_scores.append(mse(Y_train,model.predict(X_train)))\n",
    "        val_scores.append(mse(Y_test,model.predict(X_test)))\n",
    "    return np.mean(train_scores),np.mean(val_scores)"
   ]
  },
  {
   "cell_type": "code",
   "execution_count": 12,
   "metadata": {
    "colab": {
     "base_uri": "https://localhost:8080/",
     "height": 213
    },
    "colab_type": "code",
    "id": "YhnsmyFSRjqh",
    "outputId": "c5350453-0e17-44fb-99d8-b1926fe74e91"
   },
   "outputs": [
    {
     "ename": "FileNotFoundError",
     "evalue": "[Errno 2] File b'winequality-red.csv' does not exist: b'winequality-red.csv'",
     "output_type": "error",
     "traceback": [
      "\u001b[0;31m---------------------------------------------------------------------------\u001b[0m",
      "\u001b[0;31mFileNotFoundError\u001b[0m                         Traceback (most recent call last)",
      "\u001b[0;32m<ipython-input-12-bc86b7567dac>\u001b[0m in \u001b[0;36m<module>\u001b[0;34m\u001b[0m\n\u001b[1;32m      1\u001b[0m \u001b[0;31m#6\u001b[0m\u001b[0;34m\u001b[0m\u001b[0;34m\u001b[0m\u001b[0m\n\u001b[0;32m----> 2\u001b[0;31m \u001b[0mdf\u001b[0m \u001b[0;34m=\u001b[0m \u001b[0mpd\u001b[0m\u001b[0;34m.\u001b[0m\u001b[0mread_csv\u001b[0m\u001b[0;34m(\u001b[0m\u001b[0;34m'winequality-red.csv'\u001b[0m\u001b[0;34m,\u001b[0m\u001b[0msep\u001b[0m\u001b[0;34m=\u001b[0m\u001b[0;34m\";\"\u001b[0m\u001b[0;34m)\u001b[0m\u001b[0;34m\u001b[0m\u001b[0m\n\u001b[0m\u001b[1;32m      3\u001b[0m \u001b[0mdf\u001b[0m\u001b[0;34m.\u001b[0m\u001b[0mhead\u001b[0m\u001b[0;34m(\u001b[0m\u001b[0;34m)\u001b[0m\u001b[0;34m\u001b[0m\u001b[0m\n",
      "\u001b[0;32m/Library/Frameworks/Python.framework/Versions/3.7/lib/python3.7/site-packages/pandas/io/parsers.py\u001b[0m in \u001b[0;36mparser_f\u001b[0;34m(filepath_or_buffer, sep, delimiter, header, names, index_col, usecols, squeeze, prefix, mangle_dupe_cols, dtype, engine, converters, true_values, false_values, skipinitialspace, skiprows, skipfooter, nrows, na_values, keep_default_na, na_filter, verbose, skip_blank_lines, parse_dates, infer_datetime_format, keep_date_col, date_parser, dayfirst, cache_dates, iterator, chunksize, compression, thousands, decimal, lineterminator, quotechar, quoting, doublequote, escapechar, comment, encoding, dialect, error_bad_lines, warn_bad_lines, delim_whitespace, low_memory, memory_map, float_precision)\u001b[0m\n\u001b[1;32m    683\u001b[0m         )\n\u001b[1;32m    684\u001b[0m \u001b[0;34m\u001b[0m\u001b[0m\n\u001b[0;32m--> 685\u001b[0;31m         \u001b[0;32mreturn\u001b[0m \u001b[0m_read\u001b[0m\u001b[0;34m(\u001b[0m\u001b[0mfilepath_or_buffer\u001b[0m\u001b[0;34m,\u001b[0m \u001b[0mkwds\u001b[0m\u001b[0;34m)\u001b[0m\u001b[0;34m\u001b[0m\u001b[0m\n\u001b[0m\u001b[1;32m    686\u001b[0m \u001b[0;34m\u001b[0m\u001b[0m\n\u001b[1;32m    687\u001b[0m     \u001b[0mparser_f\u001b[0m\u001b[0;34m.\u001b[0m\u001b[0m__name__\u001b[0m \u001b[0;34m=\u001b[0m \u001b[0mname\u001b[0m\u001b[0;34m\u001b[0m\u001b[0m\n",
      "\u001b[0;32m/Library/Frameworks/Python.framework/Versions/3.7/lib/python3.7/site-packages/pandas/io/parsers.py\u001b[0m in \u001b[0;36m_read\u001b[0;34m(filepath_or_buffer, kwds)\u001b[0m\n\u001b[1;32m    455\u001b[0m \u001b[0;34m\u001b[0m\u001b[0m\n\u001b[1;32m    456\u001b[0m     \u001b[0;31m# Create the parser.\u001b[0m\u001b[0;34m\u001b[0m\u001b[0;34m\u001b[0m\u001b[0m\n\u001b[0;32m--> 457\u001b[0;31m     \u001b[0mparser\u001b[0m \u001b[0;34m=\u001b[0m \u001b[0mTextFileReader\u001b[0m\u001b[0;34m(\u001b[0m\u001b[0mfp_or_buf\u001b[0m\u001b[0;34m,\u001b[0m \u001b[0;34m**\u001b[0m\u001b[0mkwds\u001b[0m\u001b[0;34m)\u001b[0m\u001b[0;34m\u001b[0m\u001b[0m\n\u001b[0m\u001b[1;32m    458\u001b[0m \u001b[0;34m\u001b[0m\u001b[0m\n\u001b[1;32m    459\u001b[0m     \u001b[0;32mif\u001b[0m \u001b[0mchunksize\u001b[0m \u001b[0;32mor\u001b[0m \u001b[0miterator\u001b[0m\u001b[0;34m:\u001b[0m\u001b[0;34m\u001b[0m\u001b[0m\n",
      "\u001b[0;32m/Library/Frameworks/Python.framework/Versions/3.7/lib/python3.7/site-packages/pandas/io/parsers.py\u001b[0m in \u001b[0;36m__init__\u001b[0;34m(self, f, engine, **kwds)\u001b[0m\n\u001b[1;32m    893\u001b[0m             \u001b[0mself\u001b[0m\u001b[0;34m.\u001b[0m\u001b[0moptions\u001b[0m\u001b[0;34m[\u001b[0m\u001b[0;34m\"has_index_names\"\u001b[0m\u001b[0;34m]\u001b[0m \u001b[0;34m=\u001b[0m \u001b[0mkwds\u001b[0m\u001b[0;34m[\u001b[0m\u001b[0;34m\"has_index_names\"\u001b[0m\u001b[0;34m]\u001b[0m\u001b[0;34m\u001b[0m\u001b[0m\n\u001b[1;32m    894\u001b[0m \u001b[0;34m\u001b[0m\u001b[0m\n\u001b[0;32m--> 895\u001b[0;31m         \u001b[0mself\u001b[0m\u001b[0;34m.\u001b[0m\u001b[0m_make_engine\u001b[0m\u001b[0;34m(\u001b[0m\u001b[0mself\u001b[0m\u001b[0;34m.\u001b[0m\u001b[0mengine\u001b[0m\u001b[0;34m)\u001b[0m\u001b[0;34m\u001b[0m\u001b[0m\n\u001b[0m\u001b[1;32m    896\u001b[0m \u001b[0;34m\u001b[0m\u001b[0m\n\u001b[1;32m    897\u001b[0m     \u001b[0;32mdef\u001b[0m \u001b[0mclose\u001b[0m\u001b[0;34m(\u001b[0m\u001b[0mself\u001b[0m\u001b[0;34m)\u001b[0m\u001b[0;34m:\u001b[0m\u001b[0;34m\u001b[0m\u001b[0m\n",
      "\u001b[0;32m/Library/Frameworks/Python.framework/Versions/3.7/lib/python3.7/site-packages/pandas/io/parsers.py\u001b[0m in \u001b[0;36m_make_engine\u001b[0;34m(self, engine)\u001b[0m\n\u001b[1;32m   1133\u001b[0m     \u001b[0;32mdef\u001b[0m \u001b[0m_make_engine\u001b[0m\u001b[0;34m(\u001b[0m\u001b[0mself\u001b[0m\u001b[0;34m,\u001b[0m \u001b[0mengine\u001b[0m\u001b[0;34m=\u001b[0m\u001b[0;34m\"c\"\u001b[0m\u001b[0;34m)\u001b[0m\u001b[0;34m:\u001b[0m\u001b[0;34m\u001b[0m\u001b[0m\n\u001b[1;32m   1134\u001b[0m         \u001b[0;32mif\u001b[0m \u001b[0mengine\u001b[0m \u001b[0;34m==\u001b[0m \u001b[0;34m\"c\"\u001b[0m\u001b[0;34m:\u001b[0m\u001b[0;34m\u001b[0m\u001b[0m\n\u001b[0;32m-> 1135\u001b[0;31m             \u001b[0mself\u001b[0m\u001b[0;34m.\u001b[0m\u001b[0m_engine\u001b[0m \u001b[0;34m=\u001b[0m \u001b[0mCParserWrapper\u001b[0m\u001b[0;34m(\u001b[0m\u001b[0mself\u001b[0m\u001b[0;34m.\u001b[0m\u001b[0mf\u001b[0m\u001b[0;34m,\u001b[0m \u001b[0;34m**\u001b[0m\u001b[0mself\u001b[0m\u001b[0;34m.\u001b[0m\u001b[0moptions\u001b[0m\u001b[0;34m)\u001b[0m\u001b[0;34m\u001b[0m\u001b[0m\n\u001b[0m\u001b[1;32m   1136\u001b[0m         \u001b[0;32melse\u001b[0m\u001b[0;34m:\u001b[0m\u001b[0;34m\u001b[0m\u001b[0m\n\u001b[1;32m   1137\u001b[0m             \u001b[0;32mif\u001b[0m \u001b[0mengine\u001b[0m \u001b[0;34m==\u001b[0m \u001b[0;34m\"python\"\u001b[0m\u001b[0;34m:\u001b[0m\u001b[0;34m\u001b[0m\u001b[0m\n",
      "\u001b[0;32m/Library/Frameworks/Python.framework/Versions/3.7/lib/python3.7/site-packages/pandas/io/parsers.py\u001b[0m in \u001b[0;36m__init__\u001b[0;34m(self, src, **kwds)\u001b[0m\n\u001b[1;32m   1915\u001b[0m         \u001b[0mkwds\u001b[0m\u001b[0;34m[\u001b[0m\u001b[0;34m\"usecols\"\u001b[0m\u001b[0;34m]\u001b[0m \u001b[0;34m=\u001b[0m \u001b[0mself\u001b[0m\u001b[0;34m.\u001b[0m\u001b[0musecols\u001b[0m\u001b[0;34m\u001b[0m\u001b[0m\n\u001b[1;32m   1916\u001b[0m \u001b[0;34m\u001b[0m\u001b[0m\n\u001b[0;32m-> 1917\u001b[0;31m         \u001b[0mself\u001b[0m\u001b[0;34m.\u001b[0m\u001b[0m_reader\u001b[0m \u001b[0;34m=\u001b[0m \u001b[0mparsers\u001b[0m\u001b[0;34m.\u001b[0m\u001b[0mTextReader\u001b[0m\u001b[0;34m(\u001b[0m\u001b[0msrc\u001b[0m\u001b[0;34m,\u001b[0m \u001b[0;34m**\u001b[0m\u001b[0mkwds\u001b[0m\u001b[0;34m)\u001b[0m\u001b[0;34m\u001b[0m\u001b[0m\n\u001b[0m\u001b[1;32m   1918\u001b[0m         \u001b[0mself\u001b[0m\u001b[0;34m.\u001b[0m\u001b[0munnamed_cols\u001b[0m \u001b[0;34m=\u001b[0m \u001b[0mself\u001b[0m\u001b[0;34m.\u001b[0m\u001b[0m_reader\u001b[0m\u001b[0;34m.\u001b[0m\u001b[0munnamed_cols\u001b[0m\u001b[0;34m\u001b[0m\u001b[0m\n\u001b[1;32m   1919\u001b[0m \u001b[0;34m\u001b[0m\u001b[0m\n",
      "\u001b[0;32mpandas/_libs/parsers.pyx\u001b[0m in \u001b[0;36mpandas._libs.parsers.TextReader.__cinit__\u001b[0;34m()\u001b[0m\n",
      "\u001b[0;32mpandas/_libs/parsers.pyx\u001b[0m in \u001b[0;36mpandas._libs.parsers.TextReader._setup_parser_source\u001b[0;34m()\u001b[0m\n",
      "\u001b[0;31mFileNotFoundError\u001b[0m: [Errno 2] File b'winequality-red.csv' does not exist: b'winequality-red.csv'"
     ]
    }
   ],
   "source": [
    "#6\n",
    "df = pd.read_csv('winequality-red.csv',sep=\";\")\n",
    "df.head()\n"
   ]
  },
  {
   "cell_type": "code",
   "execution_count": null,
   "metadata": {
    "colab": {
     "base_uri": "https://localhost:8080/",
     "height": 339
    },
    "colab_type": "code",
    "id": "J4Ef4_1URjqk",
    "outputId": "bdbdd6de-7b4c-4039-e08d-93489f79d6d5"
   },
   "outputs": [],
   "source": [
    "#7\n",
    "df.describe()"
   ]
  },
  {
   "cell_type": "code",
   "execution_count": null,
   "metadata": {
    "colab": {
     "base_uri": "https://localhost:8080/",
     "height": 489
    },
    "colab_type": "code",
    "id": "Y7W9K-6eqQL_",
    "outputId": "829b26a9-d565-48da-8997-d4009d6bae2b"
   },
   "outputs": [],
   "source": [
    "#7\n",
    "df.corr()"
   ]
  },
  {
   "cell_type": "code",
   "execution_count": null,
   "metadata": {
    "colab": {},
    "colab_type": "code",
    "id": "0Gbq9EfPRjqn"
   },
   "outputs": [],
   "source": [
    "#8\n",
    "df = df.sample(frac=1) "
   ]
  },
  {
   "cell_type": "code",
   "execution_count": null,
   "metadata": {
    "colab": {
     "base_uri": "https://localhost:8080/",
     "height": 1000
    },
    "colab_type": "code",
    "id": "eLRTyL1TRjqq",
    "outputId": "50c98630-9bc9-4b4e-f623-2883d311d6cb"
   },
   "outputs": [],
   "source": [
    "#9\n",
    "%matplotlib inline\n",
    "\n",
    "import seaborn as sns\n",
    "from scipy import stats\n",
    "def corrfunc(x, y, **kws):\n",
    "    r, _ = stats.pearsonr(x, y)\n",
    "    ax = plt.gca()\n",
    "    ax.annotate(\"r = {:.2f}\".format(r),\n",
    "                xy=(.1, .6), xycoords=ax.transAxes,\n",
    "               size = 24)\n",
    "    \n",
    "cmap = sns.cubehelix_palette(light=1, dark = 0.1,\n",
    "                             hue = 0.5, as_cmap=True)\n",
    "\n",
    "sns.set_context(font_scale=2)\n",
    "g = sns.PairGrid(df)\n",
    "g.map_upper(plt.scatter, s=10, color = 'red')\n",
    "\n",
    "\n",
    "g.map_diag(sns.distplot, kde=False, color = 'red')\n",
    "\n",
    "\n",
    "g.map_lower(sns.kdeplot, cmap = cmap)\n",
    "g.map_lower(corrfunc);"
   ]
  },
  {
   "cell_type": "code",
   "execution_count": null,
   "metadata": {
    "colab": {
     "base_uri": "https://localhost:8080/",
     "height": 234
    },
    "colab_type": "code",
    "id": "DChMQqYPRjqs",
    "outputId": "c163ec9d-0a8a-4456-9c22-3fa79421529d"
   },
   "outputs": [],
   "source": [
    "np.abs(df.corr()['quality']).sort_values(ascending=False)"
   ]
  },
  {
   "cell_type": "code",
   "execution_count": null,
   "metadata": {
    "colab": {},
    "colab_type": "code",
    "id": "CUvH-4aFRjqu"
   },
   "outputs": [],
   "source": [
    "df=df.drop(columns =['free sulfur dioxide','citric acid'])"
   ]
  },
  {
   "cell_type": "code",
   "execution_count": null,
   "metadata": {
    "colab": {},
    "colab_type": "code",
    "id": "ydWn-DIZRjqw"
   },
   "outputs": [],
   "source": [
    "X = df.drop(columns=\"quality\").values\n",
    "Y=df['quality']"
   ]
  },
  {
   "cell_type": "code",
   "execution_count": null,
   "metadata": {
    "colab": {},
    "colab_type": "code",
    "id": "4SYiTZ2pRjqy"
   },
   "outputs": [],
   "source": [
    "lambd = [1.0, 0, 0.1, 0.01, 0.001, 0.0001]\n",
    "learning_rate = [0.1, 0.01, 0.001, 0.0001]\n",
    "regularizer = ['l1', 'l2']\n",
    "X_train,X_test,Y_train,Y_test = partition(standardize(X),Y,0.2)"
   ]
  },
  {
   "cell_type": "code",
   "execution_count": null,
   "metadata": {
    "colab": {},
    "colab_type": "code",
    "id": "GB1sNYxtRjq0"
   },
   "outputs": [],
   "source": [
    "#10\n",
    "min_mse = 100\n",
    "min_key = \"\"\n",
    "params = {}\n",
    "for l in lambd:\n",
    "    for l_r in learning_rate:\n",
    "        for reg in regularizer:\n",
    "            key = 'lambd: '+str(l)+' learning_rate: '+str(l_r)+ \" regularizer: \"+reg\n",
    "            model_args = {\"learning_rate\" : l_r,\"epochs\":1000,\"tol\":None,\"regularizer\":reg,\"lambd\":l}\n",
    "            params[key]=sfolds(10,X_train,Y_train,Linear_Regression(),model_args,mse)\n",
    "            if np.mean(params[key][1]) < min_mse:\n",
    "                min_mse=np.mean(params[key][1])\n",
    "                min_key=key"
   ]
  },
  {
   "cell_type": "code",
   "execution_count": null,
   "metadata": {
    "colab": {
     "base_uri": "https://localhost:8080/",
     "height": 50
    },
    "colab_type": "code",
    "id": "ItmUXgvFRjq4",
    "outputId": "97448f3e-e572-43a0-dc37-9872e7103f77"
   },
   "outputs": [],
   "source": [
    "print(\"Minimum Mse error was for :\",min_key)\n",
    "print(min_mse)"
   ]
  },
  {
   "cell_type": "code",
   "execution_count": null,
   "metadata": {
    "colab": {},
    "colab_type": "code",
    "id": "5eHeUscsRjq7"
   },
   "outputs": [],
   "source": [
    "#11\n",
    "optimal_params = min_key.split(' ')\n",
    "optimal_args = {\"learning_rate\" : float (optimal_params[3]),\"epochs\":1000,\"tol\":0.001,\"regularizer\":optimal_params[5],\"lambd\": float (optimal_params[1])}"
   ]
  },
  {
   "cell_type": "code",
   "execution_count": null,
   "metadata": {
    "colab": {
     "base_uri": "https://localhost:8080/",
     "height": 33
    },
    "colab_type": "code",
    "id": "bZDmwM0mRjq-",
    "outputId": "7be5a830-0d8f-48f3-bc5e-f6a80ac22801"
   },
   "outputs": [],
   "source": [
    "#11\n",
    "y_test_preds,y_test_error = sfolds(10,X_test,Y_test,Linear_Regression(),optimal_args,mse)\n",
    "print(\"MSE for y_test :\",np.mean(y_test_error))"
   ]
  },
  {
   "cell_type": "code",
   "execution_count": null,
   "metadata": {
    "colab": {},
    "colab_type": "code",
    "id": "1Pwwras5Rjq_"
   },
   "outputs": [],
   "source": [
    "#12\n",
    "cv = 10\n",
    "train_scores = []\n",
    "val_scores = []\n",
    "train_scores,val_scores = learning_curve(Linear_Regression(),X_train,Y_train,cv,0.01,**optimal_args)\n"
   ]
  },
  {
   "cell_type": "code",
   "execution_count": null,
   "metadata": {
    "colab": {
     "base_uri": "https://localhost:8080/",
     "height": 412
    },
    "colab_type": "code",
    "id": "qycbcL3JRjrB",
    "outputId": "e82bf005-ae84-4a7c-cc1f-dabd0dd4bbe7"
   },
   "outputs": [],
   "source": [
    "\n",
    "plt.figure(figsize=(10, 6))\n",
    "plt.plot([j*X.shape[0]/len(train_scores) for j in range(len(train_scores))],train_scores, \"r-+\", linewidth=3, label=\"Training Score\")\n",
    "plt.plot([j*X.shape[0]/len(train_scores) for j in range(len(train_scores))],val_scores, \"b-\", linewidth=2, label=\"Cross-validation Score\")\n",
    "plt.legend(loc=\"best\", fontsize=18)   \n",
    "plt.xlabel(\"Training set size\", fontsize=18) \n",
    "plt.ylabel(\"RMSE\", fontsize=14) \n",
    "plt.title(\"Learning Curve (Linear Model)\")\n",
    "plt.show()"
   ]
  },
  {
   "cell_type": "code",
   "execution_count": null,
   "metadata": {
    "colab": {
     "base_uri": "https://localhost:8080/",
     "height": 50
    },
    "colab_type": "code",
    "id": "emeoxi_ERjrD",
    "outputId": "93cfbaf4-ca06-4c47-a783-c53434c80360"
   },
   "outputs": [],
   "source": [
    "#13\n",
    "X_train,X_test,Y_train,Y_test = partition(X,Y,0.2)\n",
    "X_aug = polynomialFeatures(X_train,3)\n",
    "X_aug = standardize(X_aug)\n",
    "min_mse_aug = 100\n",
    "min_key_aug = \"\"\n",
    "X_aug_params = {}\n",
    "\n",
    "for l in lambd:\n",
    "    for l_r in learning_rate:\n",
    "        for reg in regularizer:\n",
    "            key = 'lambd: '+str(l)+' learning_rate: '+str(l_r)+ \" regularizer: \"+reg\n",
    "            model_args = {\"learning_rate\" : l_r,\"epochs\":1000,\"tol\":None,\"regularizer\":reg,\"lambd\":l}\n",
    "            X_aug_params[key]=sfolds(10,X_aug,Y_train,Linear_Regression(),model_args,mse)\n",
    "            if np.mean(X_aug_params[key][1]) < min_mse_aug:\n",
    "                min_mse_aug=np.mean(X_aug_params[key][1])\n",
    "                min_key_aug=key"
   ]
  },
  {
   "cell_type": "code",
   "execution_count": null,
   "metadata": {
    "colab": {
     "base_uri": "https://localhost:8080/",
     "height": 50
    },
    "colab_type": "code",
    "id": "-eIGDNcZRjrL",
    "outputId": "b956870b-dc66-4167-f45e-3cc50e4662b8"
   },
   "outputs": [],
   "source": [
    "#13\n",
    "print(\"Minimum Mse error was for :\",min_key_aug)\n",
    "print(min_mse_aug)"
   ]
  },
  {
   "cell_type": "code",
   "execution_count": null,
   "metadata": {
    "colab": {},
    "colab_type": "code",
    "id": "LqfRccPURjrQ"
   },
   "outputs": [],
   "source": [
    "#13\n",
    "cv = 10\n",
    "train_scores_aug = []\n",
    "val_scores_aug = []\n",
    "train_scores_aug,val_scores_aug = learning_curve(Linear_Regression(),X_aug,Y_train,cv,0.01,**optimal_args_aug)\n"
   ]
  },
  {
   "cell_type": "code",
   "execution_count": null,
   "metadata": {
    "colab": {
     "base_uri": "https://localhost:8080/",
     "height": 412
    },
    "colab_type": "code",
    "id": "du9LYCpSRjrS",
    "outputId": "d506d8d4-c18e-4968-d229-8350d4c4dcf3"
   },
   "outputs": [],
   "source": [
    "plt.figure(figsize=(10, 6))\n",
    "plt.plot([j*X.shape[0]/len(train_scores_aug) for j in range(len(train_scores_aug))],train_scores_aug, \"r-+\", linewidth=3, label=\"Training Score\")\n",
    "plt.plot([j*X.shape[0]/len(train_scores_aug) for j in range(len(val_scores_aug))],val_scores_aug, \"b-\", linewidth=2, label=\"Cross-validation Score\")\n",
    "plt.legend(loc=\"best\", fontsize=18)   \n",
    "plt.xlabel(\"Training set size\", fontsize=18) \n",
    "plt.ylabel(\"RMSE\", fontsize=14) \n",
    "plt.title(\"Learning Curve (Polynomial Model)\")\n",
    "plt.show()"
   ]
  },
  {
   "cell_type": "code",
   "execution_count": null,
   "metadata": {
    "colab": {
     "base_uri": "https://localhost:8080/",
     "height": 533
    },
    "colab_type": "code",
    "id": "KApYLRR7RjrU",
    "outputId": "1ffe95bb-976d-4242-a17c-0979f9a43cdb"
   },
   "outputs": [],
   "source": [
    "#14 extra credits\n",
    "maximum_degree = 5\n",
    "X_train,X_test,Y_train,Y_test = partition(X,Y,0.2)\n",
    "plot_polynomial_model_complexity(Linear_Regression(),X_train,Y_train,10,maximum_degree)"
   ]
  },
  {
   "cell_type": "code",
   "execution_count": null,
   "metadata": {
    "colab": {},
    "colab_type": "code",
    "id": "PvrAlOJmRjrd"
   },
   "outputs": [],
   "source": [
    "#15 extra credits\n",
    "X_train,X_test,Y_train,Y_test = partition(standardize(X),Y,0.2)\n",
    "min_mse_sgd = 100\n",
    "min_key_sgd = \"\"\n",
    "params_sgd = {}\n",
    "cv=10\n",
    "for l in lambd:\n",
    "    for l_r in learning_rate:\n",
    "        for reg in regularizer:\n",
    "            key = 'lambd: '+str(l)+' learning_rate: '+str(l_r)+ \" regularizer: \"+reg\n",
    "            model_args = {\"learning_rate\" : l_r,\"epochs\":1000,\"tol\":0.001,\"regularizer\":reg,\"lambd\":l}\n",
    "            params_sgd[key]=sfolds_cross_val(10,X_train,Y_train,Stochastic_Regression(),model_args)\n",
    "            if np.mean(params_sgd[key][1]) < min_mse_sgd:\n",
    "                min_mse_sgd=np.mean(params_sgd[key][1])\n",
    "                min_key_sgd=key"
   ]
  },
  {
   "cell_type": "code",
   "execution_count": null,
   "metadata": {
    "colab": {
     "base_uri": "https://localhost:8080/",
     "height": 50
    },
    "colab_type": "code",
    "id": "tV1Kt9ZXRjre",
    "outputId": "a793b51e-a88d-41e6-ab7d-7b4f9c138c3f"
   },
   "outputs": [],
   "source": [
    "print(\"Minimum Mse error was for :\",min_key_sgd)\n",
    "print(min_mse_sgd)"
   ]
  },
  {
   "cell_type": "code",
   "execution_count": null,
   "metadata": {
    "colab": {},
    "colab_type": "code",
    "id": "L3IfFYh_Rjrg"
   },
   "outputs": [],
   "source": [
    "optimal_params_sgd = min_key_sgd.split(' ')\n",
    "optimal_args_sgd = {\"learning_rate\" : float (optimal_params_sgd[3]),\"epochs\":10000,\"tol\":0.001,\"regularizer\":optimal_params_sgd[5],\"lambd\": float (optimal_params_sgd[1])}\n"
   ]
  },
  {
   "cell_type": "code",
   "execution_count": null,
   "metadata": {
    "colab": {
     "base_uri": "https://localhost:8080/",
     "height": 33
    },
    "colab_type": "code",
    "id": "Af47UK872Dxy",
    "outputId": "01970af0-6eb3-42cb-f408-1e91ea2d4af7"
   },
   "outputs": [],
   "source": [
    "y_test_preds,y_test_error = sfolds(10,standardize(X_test),Y_test,Stochastic_Regression(),optimal_args_sgd,mse)\n",
    "\n",
    "print(\"MSE for y_test :\",np.mean(y_test_error))"
   ]
  },
  {
   "cell_type": "code",
   "execution_count": null,
   "metadata": {
    "colab": {},
    "colab_type": "code",
    "id": "m0ru-VzoEeT3"
   },
   "outputs": [],
   "source": []
  },
  {
   "cell_type": "code",
   "execution_count": null,
   "metadata": {},
   "outputs": [],
   "source": []
  },
  {
   "cell_type": "code",
   "execution_count": null,
   "metadata": {},
   "outputs": [],
   "source": []
  },
  {
   "cell_type": "code",
   "execution_count": null,
   "metadata": {},
   "outputs": [],
   "source": []
  },
  {
   "cell_type": "code",
   "execution_count": null,
   "metadata": {},
   "outputs": [],
   "source": []
  }
 ],
 "metadata": {
  "colab": {
   "collapsed_sections": [],
   "name": "pa2.ipynb",
   "provenance": []
  },
  "kernelspec": {
   "display_name": "Python 3",
   "language": "python",
   "name": "python3"
  },
  "language_info": {
   "codemirror_mode": {
    "name": "ipython",
    "version": 3
   },
   "file_extension": ".py",
   "mimetype": "text/x-python",
   "name": "python",
   "nbconvert_exporter": "python",
   "pygments_lexer": "ipython3",
   "version": "3.7.0"
  }
 },
 "nbformat": 4,
 "nbformat_minor": 1
}
